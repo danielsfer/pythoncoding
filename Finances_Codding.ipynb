{
  "nbformat": 4,
  "nbformat_minor": 0,
  "metadata": {
    "colab": {
      "name": "Finances Codding",
      "provenance": [],
      "authorship_tag": "ABX9TyNdrOiyFN4nGqBvmSydcrF1",
      "include_colab_link": true
    },
    "kernelspec": {
      "name": "python3",
      "display_name": "Python 3"
    }
  },
  "cells": [
    {
      "cell_type": "markdown",
      "metadata": {
        "id": "view-in-github",
        "colab_type": "text"
      },
      "source": [
        "<a href=\"https://colab.research.google.com/github/danielsfer/pythoncoding/blob/main/Finances_Codding.ipynb\" target=\"_parent\"><img src=\"https://colab.research.google.com/assets/colab-badge.svg\" alt=\"Open In Colab\"/></a>"
      ]
    },
    {
      "cell_type": "markdown",
      "metadata": {
        "id": "ceNh9F4eQL7e"
      },
      "source": [
        "## ***NPV, Payback and IRR Calculations - Loans, Corporate Bonds, TVM and Capital Budgeting***\n"
      ]
    },
    {
      "cell_type": "markdown",
      "metadata": {
        "id": "h3D1o_6TQAjG"
      },
      "source": [
        "***NPV Evaluation Algorithm***\n"
      ]
    },
    {
      "cell_type": "code",
      "metadata": {
        "id": "P5lncC6rADpa"
      },
      "source": [
        "#Values From Databank\n",
        "cf = [-200,20,50,70,100,50]    \n",
        "r= 0.06\n",
        "\n",
        "#Calculate NPV\n",
        "NPVcalc = 0;\n",
        "NPVline = []\n",
        "for k in range(len(cf)): \n",
        "  NPVcalc += cf[k]/((1+r)**(k)) #PV given A\n",
        "  NPVline.append(NPVcalc)\n",
        "print ('NPV =', round(NPVcalc,2))\n",
        "if NPVcalc < 0:\n",
        "  print('Project Rejected')\n",
        "else:\n",
        "  print('Project Accepted')\n",
        "\n",
        "import matplotlib.pyplot as plt\n",
        "\n",
        "# Cumulative Cash Flow Non-Discounted\n",
        "cf_cum =[]\n",
        "cumul = 0\n",
        "for i in cf:\n",
        "  cumul += i\n",
        "  cf_cum.append(cumul)\n",
        "\n",
        "# Plotting\n",
        "x_axis = list(range(1,7))\n",
        "plt.figure(figsize = (12,8))\n",
        "#plt.grid()\n",
        "plt.hlines(y=0,xmin = x_axis[0],xmax = x_axis[-1],linestyles = \"dashed\", color = \"b\")\n",
        "plt.title(\"Cash Flow\", fontsize = 16)\n",
        "plt.xlabel(\"Time (years)\", fontsize = 12)\n",
        "plt.ylabel(\"Cash (MM$)\", fontsize = 12)\n",
        "#plt.xticks(x_axis,labels = [\"t0\",\"t1\",\"t2\",\"t3\",\"t4\",\"t5\"])\n",
        "plt.yticks(range(-200,101,25))\n",
        "plt.annotate(\"Break Even Point Non-discounted\", xy = (4.6,0),xytext = (5,-25),arrowprops = {\"color\":\"black\"}, fontsize = 10)\n",
        "plt.annotate((\"NPV =\", round(NPVcalc,2)), xy = (6,NPVcalc),xytext = (6,NPVcalc+20),arrowprops = {\"color\":\"black\"}, fontsize = 10)\n",
        "plt.bar(x_axis,cf, label = \"Cash FLow\")\n",
        "plt.plot(x_axis,cf_cum, color = \"r\", linestyle = \"--\",marker = 'd',label = \"Cumulative\")\n",
        "plt.plot(x_axis,NPVline, color = \"black\", linestyle = \"--\",marker = 'o',label = \"NPV\")\n",
        "plt.legend(loc = \"best\", fontsize = 12)\n",
        "plt.show()"
      ],
      "execution_count": null,
      "outputs": []
    },
    {
      "cell_type": "markdown",
      "metadata": {
        "id": "wfuNgDYckn1w"
      },
      "source": [
        "***Payback Evaluation Algorithm***\n"
      ]
    },
    {
      "cell_type": "code",
      "metadata": {
        "id": "WEPwje5pknYZ"
      },
      "source": [
        "#Values From Databank\n",
        "#cf = [-250,20,50,70,100,50]\n",
        "#r = 0.05\n",
        "\n",
        "#Calculate Payback\n",
        "NPV = 0\n",
        "cf_cum = 0\n",
        "Payback = 0\n",
        "for k in range(len(cf)): \n",
        "  NPV += cf[k]/((1+r)**k) #PV given A\n",
        "  cf_cum += cf[k]\n",
        "  print (\"Cash Flow\",k,\"=\",cf_cum)\n",
        "  if cf_cum > 0 and Payback < 1:\n",
        "    slope = (cf_cum-(cf_cum-cf[k]))/(k-(k-1))\n",
        "    t = -((cf_cum-cf[k])/slope - (k-1)) + 1\n",
        "    Payback = 1\n",
        "  elif k==len(cf)-1 and Payback < 1:\n",
        "    print (\"The project does not break-even\")\n",
        "    break\n",
        "if Payback > 0:\n",
        "  print (\"Payback Time = {} years\".format(round(t,2)))\n",
        "\n",
        "if t > 2:\n",
        "  print('Project Rejected')\n",
        "else:\n",
        "  print('Project Accepted')"
      ],
      "execution_count": null,
      "outputs": []
    },
    {
      "cell_type": "markdown",
      "metadata": {
        "id": "yGMBCNlKipyQ"
      },
      "source": [
        "***IRR Search Algorithm*** "
      ]
    },
    {
      "cell_type": "code",
      "metadata": {
        "id": "Chn7y7ClioYR"
      },
      "source": [
        "##Values From Databank\n",
        "#cf = [-200,20,50,70,100,50]  \n",
        "\n",
        "irr = 0.000001 #guess\n",
        "step = 0.0000001 #step for search\n",
        "ireq = 0.05 #interest required for project approval\n",
        "\n",
        "TargetNPV = 0\n",
        "limit = 0.00001\n",
        "\n",
        "##Calculate NPV and Find IRR\n",
        "NPV = 0;\n",
        "while True:\n",
        "  for k in range(len(cf)): \n",
        "    NPV += cf[k]/((1+irr)**k) #PV given A\n",
        "    #print('NPV',k,'=',NPV)\n",
        "  #print ('Interest:',round(i,3))\n",
        "  \n",
        "  diff = NPV - TargetNPV\n",
        "  if abs(diff) > limit:\n",
        "    if diff < 0:\n",
        "      irr -=step\n",
        "    elif diff>0: \n",
        "      irr +=step\n",
        "  else:\n",
        "    break\n",
        "  NPV = 0\n",
        "\n",
        "print ('NPV =', round(NPV,4))\n",
        "print ('IRR = ',\"{:.4%}\".format(irr))\n",
        "\n",
        "##Project Acceptance\n",
        "if ireq > irr:\n",
        "  print('Project Rejected')\n",
        "else:\n",
        "  print('Project Accepted')\n",
        "\n",
        "## Filling interest vector for plot\n",
        "rs = []\n",
        "maxr = 25\n",
        "ilist = list(range(0,maxr*10))\n",
        "for i in ilist:\n",
        "  rs.append(i/1000)\n",
        "## Filling NPV vector for plot\n",
        "npvs = []\n",
        "for i in rs:\n",
        "  npv = 0\n",
        "  for j in range(len(cf)):\n",
        "    npv += cf[j]/(1+i)**(j)\n",
        "  npvs.append(npv)\n",
        "\n",
        "#Plot\n",
        "plt.figure(figsize = (12,8))\n",
        "plt.scatter (x = r, y = NPVcalc, s = 50, color= \"blue\", marker = \"o\", label = \"NPV @ r\")\n",
        "plt.plot(rs, npvs, color = \"red\", linewidth = 2, linestyle = \"-\", label = \"NPV(r)\")\n",
        "plt.grid()\n",
        "plt.hlines(y = 0, xmin = rs[0], xmax = rs[-1],linestyles = \"--\",color = 'b',label = \"NPV = 0\")\n",
        "plt.title(\"NPV & IRR\", fontsize = 16)\n",
        "plt.xlabel(\"r\", fontsize = 12)\n",
        "plt.ylabel(\"NPV\", fontsize = 12)\n",
        "plt.yticks(range(-100,101,5))\n",
        "plt.annotate(\"IRR\", xy = (irr,0), xytext = (0.135,20), arrowprops = {'color':'black'}, fontsize = 12)\n",
        "plt.legend(loc=\"best\",fontsize = 12)\n",
        "plt.style.use('default')\n",
        "plt.show()"
      ],
      "execution_count": null,
      "outputs": []
    },
    {
      "cell_type": "code",
      "metadata": {
        "id": "dFTWAH3ZU85s"
      },
      "source": [
        "import numpy as np\n",
        "import matplotlib.pyplot as plt\n",
        "\n",
        "def linear (x, a, b):\n",
        "  y = a*x+b\n",
        "  plt.scatter (x,y)\n",
        "  plt.plot (x,y)\n",
        "  plt.xlabel('x')\n",
        "  plt.ylabel('$y = {}x+{}$'.format(a,b))\n",
        "  plt.grid()\n",
        "  return y\n",
        "\n",
        "x = np.arange(10)\n",
        "a = 1\n",
        "b = 10\n",
        "y = linear(x,1,10)"
      ],
      "execution_count": null,
      "outputs": []
    },
    {
      "cell_type": "markdown",
      "metadata": {
        "id": "LbnhFT8J-H1t"
      },
      "source": [
        "## ***Statistics and Distributions***"
      ]
    },
    {
      "cell_type": "markdown",
      "metadata": {
        "id": "Mi8TlUh3-caJ"
      },
      "source": [
        "***Distributions and Intervals***"
      ]
    },
    {
      "cell_type": "code",
      "metadata": {
        "id": "wrSE1GKQ-PTf"
      },
      "source": [
        "import numpy as np\n",
        "import matplotlib.pyplot as plt\n",
        "\n",
        "#Population Parameters\n",
        "mi = 100\n",
        "sigma = 2\n",
        "size = 1000000\n",
        "\n",
        "#Random seeding\n",
        "np.random.seed(123)\n",
        "pop = np.random.normal(loc = mi, scale = sigma, size = size)\n",
        "\n",
        "#Parameter check\n",
        "#pop.mean()\n",
        "#pop.std()\n",
        "\n",
        "import scipy.stats as stats\n",
        "\n",
        "#Statistical Parameters evaluation\n",
        "stats.skew(pop)\n",
        "stats.kurtosis(pop)\n",
        "stats.kurtosis(pop, fisher= False)\n",
        "stats.describe(pop)\n",
        "\n",
        "#Charts - Histogram\n",
        "x = np.linspace(90,110,1000)\n",
        "y = stats.norm.pdf(x,loc=mi,scale=sigma)\n",
        "\n",
        "plt.figure(figsize=(20,8))\n",
        "plt.hist(pop,bins=1000,density=True) #to evaluate absolute values, just turn density off\n",
        "plt.plot(x,y,linewidth=3,color=\"red\")\n",
        "plt.grid()\n",
        "plt.title(\"Normal Distribution\",fontsize=20)\n",
        "plt.xlabel(\"Screw Lenght\", fontsize=15)\n",
        "plt.ylabel(\"pdf\",fontsize=15)\n",
        "plt.show()\n",
        "\n",
        "#Charts - Cumulative\n",
        "y2 = stats.norm.cdf(x,loc=mi,scale=sigma)\n",
        "\n",
        "plt.figure(figsize=(20,8))\n",
        "plt.hist(pop,bins=1000,density=True,cumulative=True)\n",
        "plt.plot(x,y2,linewidth=3,color=\"red\")\n",
        "plt.grid()\n",
        "plt.title(\"Normal Distribution\",fontsize=20)\n",
        "plt.xlabel(\"Screw Lenght\", fontsize=15)\n",
        "plt.ylabel(\"pdf\",fontsize=15)\n",
        "\n",
        "#Z-Values\n",
        "x3=np.linspace(-4,4,1000)\n",
        "y3=stats.norm.pdf(x,loc=0,scale=1)\n",
        "z = stats.zscore(pop)\n",
        "\n",
        "plt.figure(figsize=(20,8))\n",
        "plt.hist(z,bins=1000,density=True)\n",
        "plt.plot(x3,y3,linewidth=3,color=\"red\")\n",
        "#plt.xticks(np.arange(4,5,1),\n",
        "           #labels = [\"-4σ=-4\",\"-3σ=-3\",\"-2σ=-2\",\"-1σ=-1\",\"mi=0\",\"1σ=1\",\"2σ=2\",\"3σ=3\",\"4σ=4\"],\n",
        "           #fontsize=15)\n",
        "plt.grid()\n",
        "plt.title(\"Standard Normal Distribution\",fontsize=20)\n",
        "plt.xlabel(\"Screw Lenght\", fontsize=15)\n",
        "plt.ylabel(\"pdf\",fontsize=15)\n",
        "\n",
        "#Z-Tests\n",
        "stats.norm.cdf(x=105,loc=pop.mean(),scale=pop.std())\n",
        "z = (105-pop.mean())/pop.std()\n",
        "stats.norm.cdf(z) #Here you enter with the standard value and get the probability\n",
        "stats.norm.ppf(0.95,loc=0,scale=1) #Here you enter with the probability and get the stardard value\n",
        "\n"
      ],
      "execution_count": null,
      "outputs": []
    },
    {
      "cell_type": "code",
      "metadata": {
        "id": "LYAFeRot_Lhk"
      },
      "source": [
        "#Point Estimates vs Confidence Interval Estimates\n",
        "#1) Known Population Variances\n",
        "#Knowing the sample size (n), the population std is known and the sample mean and std is known.\n",
        "import numpy as np\n",
        "import scipy.stats as stats\n",
        "import matplotlib.pyplot as plt\n",
        "\n",
        "point_est = 10 #sample.mean()\n",
        "pop_std = 2\n",
        "standard_error = 1 #pop_std/np.sqrt(sample_size)\n",
        "conf = 0.9\n",
        "\n",
        "left_z, right_z = stats.norm.interval(conf)\n",
        "conf_int = (point_est + left_z*standard_error,point_est+right_z*standard_error)\n",
        "\n",
        "stats.norm.interval(conf, loc=point_est, scale=standard_error) # this is the same of the rows above\n",
        "\n",
        "###Student's T Distribution\n",
        "##It replaces the need for the population std with the sample std. Because of this, Normal distribution is no longer acceptable, and a new model is needed.\n",
        "##The confidence interval is broader (more incertainty), so mean+std of sample when compared to it has more room to be pop mean.\n",
        "\n",
        "#2) Unknown Population Variances\n",
        "#Knowing population data is hard, so Students T is suitable, but less precise.\n",
        "sample_size = 50\n",
        "point_est_mean = 10 #sample.mean()\n",
        "point_est_std = 1 #sample.std(ddof=1)\n",
        "standard_error = 0.05 #point_est_std/np/sqrt(sample_size)\n",
        "left_t,right_t = stats.t.interval(conf,df=sample_size -1)\n",
        "\n",
        "stats.t.interval(conf, loc = point_est_mean, scale=standard_error, df=sample_size-1) # this is the same of the row above\n",
        "\n",
        "# Plotting a T distribution vs Normal\n",
        "x = np.linspace(-5,5,1000)\n",
        "t_2 = stats.t.pdf(x,df=2-1)\n",
        "N = stats.norm.pdf(x)\n",
        "\n",
        "plt.figure(figsize = (12, 8))\n",
        "plt.plot(x,t_2,linewidth=2,label=\"Student's T (Sample: 2)\")\n",
        "plt.plot(x,N,linewidth=2,label=\"Standard Normal\")\n",
        "plt.title(\"Student's t-distribution\",fontsize=20)\n",
        "plt.ylabel(\"pdf\",fontsize=15)\n",
        "plt.show()\n"
      ],
      "execution_count": null,
      "outputs": []
    },
    {
      "cell_type": "markdown",
      "metadata": {
        "id": "33E4-NXhrv0Q"
      },
      "source": [
        "***Hypothesis Tests - Z-Tests***"
      ]
    },
    {
      "cell_type": "code",
      "metadata": {
        "id": "8RrCzan4rzyk"
      },
      "source": [
        "##Z and T-Tests between a NULL Hypothesis (H0) and an Alternative Hypothesis (Ha)\n",
        "import numpy as np\n",
        "import scipy.stats as stats\n",
        "import matplotlib.pyplot as plt\n",
        "\n",
        "#Two-Tailed Z-Test\n",
        "\n",
        "mi = 100.7 #unknown\n",
        "pop_std = 2 # known\n",
        "sample_size = 20 # known\n",
        "\n",
        "np.random.seed(123)\n",
        "sample = np.random.normal(loc = mi, scale = pop_std, size = sample_size)\n",
        "point_est_mean = sample.mean()\n",
        "standard_error = pop_std/np.sqrt(sample_size)\n",
        "\n",
        "#H0: mean==100\n",
        "#Ha: mean!=100\n",
        "\n",
        "H0 = 100\n",
        "conf=0.95\n",
        "stats.norm.interval(conf,loc=H0,scale=standard_error)\n",
        "left,right = stats.norm.interval(conf, loc=H0, scale=standard_error)\n",
        "\n",
        "x = np.linspace(98,102,1000)\n",
        "y = stats.norm.pdf(x,loc=H0,scale=standard_error)\n",
        "\n",
        "plt.figure(figsize = (12, 8))\n",
        "plt.plot(x,y,linewidth=2,label=\"Normal Dist\")\n",
        "plt.vlines(x=H0,ymin=0,ymax=0.90)\n",
        "plt.vlines(x=point_est_mean,ymin=0,ymax=0.1,color=\"red\")\n",
        "plt.fill_between(x,y,where = ((x>right)|(x<left)),color=\"blue\",alpha=0.2)\n",
        "plt.annotate(\"5%\",xy=(99.05,0.02),fontsize=15)\n",
        "plt.annotate(\"5%\",xy=(101,0.02),fontsize=15)\n",
        "plt.annotate(\"Reject H0\",xy=(98,0.5),fontsize=15)\n",
        "plt.annotate(\"H0: Mean=100\",xy=(100.05,0.3),fontsize=15)\n",
        "plt.annotate(\"Point Estimate\",xy=(101,0.14),color=\"red\",fontsize=15)\n",
        "plt.grid()\n",
        "plt.title(\"Z-Test(two-sided)\",fontsize=20)\n",
        "plt.ylabel(\"pdf\",fontsize=15)\n",
        "plt.legend(fontsize=15)\n",
        "plt.show()\n",
        "\n",
        "#The p-value, the smallest significance which H0 can be rejected (a probability) is given by:\n",
        "z_stat = (point_est_mean - H0)/standard_error\n",
        "p_value = 2*stats.norm.cdf(-abs(z_stat)) # the 2 is because of two-tail test\n",
        "print(\"p_value = \", \"{:.2%}\".format(p_value)) #this means if the confidence was (100-p_value/2%), then H0 was ok.\n",
        "\n",
        "#One-Tailed Z-Test\n",
        "#In this case, we use de ppf function to perform only one side of the interval. \n",
        "#Also, for the right value, the conf must be used, as in the left value, 1-conf must be used\n",
        "#The rest is completely the same.\n",
        "\n",
        "#H0 = 100\n",
        "#conf=0.95\n",
        "#stats.norm.ppf(conf,loc=H0,scale=standard_error)\n",
        "#right = stats.norm.ppf(conf, loc=H0, scale=standard_error) \n"
      ],
      "execution_count": null,
      "outputs": []
    },
    {
      "cell_type": "markdown",
      "metadata": {
        "id": "-ay9Nm5bbcyp"
      },
      "source": [
        "***Hypothesis Tests - T-Tests***"
      ]
    },
    {
      "cell_type": "code",
      "metadata": {
        "id": "BaHPr3aybi0s"
      },
      "source": [
        "##Z and T-Tests between a NULL Hypothesis (H0) and an Alternative Hypothesis (Ha)\n",
        "import numpy as np\n",
        "import scipy.stats as stats\n",
        "import matplotlib.pyplot as plt\n",
        "\n",
        "#Two-Tailed Z-Test\n",
        "\n",
        "#mi = #known\n",
        "#pop_std = #unknown\n",
        "sample_size = 50 # known\n",
        "point_est_mean = 0.25318 #sample.mean()\n",
        "standard_error = 0.043128 #sample.std(ddof=1)/np.sqrt(sample_size)\n",
        "\n",
        "#H0: mean==0\n",
        "#Ha: mean!=0\n",
        "\n",
        "H0 = 0\n",
        "conf=0.95\n",
        "stats.t.interval(conf,loc=H0,scale=standard_error,df=sample_size-1)\n",
        "left,right = stats.t.interval(conf, loc=H0, scale=standard_error,df=sample_size-1)\n",
        "\n",
        "x = np.linspace(-0.2,0.2,1000)\n",
        "y = stats.t.pdf(x,loc = H0,scale = standard_error,df = sample_size-1)\n",
        "\n",
        "plt.figure(figsize = (20, 8))\n",
        "plt.plot(x,y,linewidth=2,label=\"Normal Dist\")\n",
        "plt.vlines(x=H0,ymin=0,ymax=9)\n",
        "plt.vlines(x=point_est_mean,ymin=0,ymax=10,color=\"red\")\n",
        "plt.fill_between(x,y,where = ((x>right)|(x<left)),color=\"blue\",alpha=0.2)\n",
        "plt.annotate(\"2.5%\",xy=(-0.1,0.2),fontsize=15)\n",
        "plt.annotate(\"2.5%\",xy=(0.09,0.2),fontsize=15)\n",
        "plt.annotate(\"Reject H0\",xy=(-0.2,6.5),fontsize=15)\n",
        "plt.annotate(\"H0: Mean=100\",xy=(0.005,3),fontsize=15)\n",
        "plt.annotate(\"Point Estimate\",xy=(0.2,5),color=\"red\",fontsize=15)\n",
        "plt.grid()\n",
        "plt.title(\"T-Test(two-sided)\",fontsize=20)\n",
        "plt.ylabel(\"pdf\",fontsize=15)\n",
        "plt.legend(fontsize=15)\n",
        "plt.show()\n",
        "\n",
        "#The p-value, the smallest significance which H0 can be rejected (a probability) is given by:\n",
        "t_stat = (point_est_mean - H0)/standard_error\n",
        "p_value = 2 * stats.t.cdf(-abs(t_stat),df=sample_size-1) # the 2 is because of two-tail test\n",
        "#Another way to calculate is t_stat,p_value = stats.ttest_1samp(sample,H0)\n",
        "print(\"p_value = \", \"{:.5%}\".format(p_value)) #this means if the confidence was (100-p_value/2%), then H0 was ok.\n",
        "\n",
        "#One-Tailed T-Test\n",
        "#In this case, we can use the quick way to calculate the test also, but p-value must be divided by 2\n"
      ],
      "execution_count": null,
      "outputs": []
    },
    {
      "cell_type": "markdown",
      "metadata": {
        "id": "YIxpDD3Gf_Si"
      },
      "source": [
        "## ***Monte-Carlo Simulations & VaR***"
      ]
    },
    {
      "cell_type": "markdown",
      "metadata": {
        "id": "ffB8hsw9MkQ8"
      },
      "source": [
        "###Basics of Matrix and User-Defined Functions"
      ]
    },
    {
      "cell_type": "code",
      "metadata": {
        "id": "wtKyyT-gKnmL"
      },
      "source": [
        "pv = 100\n",
        "r=0.04\n",
        "n=6\n",
        "\n",
        "#UserDefined Functions (def and return)\n",
        "#If the parameter required is defined with an equal sign, for example nper=1, than this will be the default\n",
        "#Also, if you want to return a list separated by created variables, you can pass into *args,a,b,c..., which inputs total-n variables into args\n",
        "def future_value(pv,rate,nper):\n",
        "  fv = pv*(1+rate)**nper\n",
        "  return fv\n",
        "print(future_value(pv=100,rate=0.04,nper=5))\n",
        "\n",
        "def npv(rate, *args): #if args comes first, the passing of parameters at the end must be keyword oriented\n",
        "  NPV = 0\n",
        "  for i in range (len(args)):\n",
        "    NPV+=args[i]/(1+rate)**(i)\n",
        "  return NPV\n",
        "print(npv(r,-200,20,50,70,100,50))\n",
        "#To call a function inside another, simply write its name and pass the correct parameters\n"
      ],
      "execution_count": null,
      "outputs": []
    },
    {
      "cell_type": "code",
      "metadata": {
        "id": "i2arYK-GRzMC"
      },
      "source": [
        "#Complex Example\n",
        "\n",
        "import numpy as np\n",
        "\n",
        "##Payout Phase\n",
        "m=12\n",
        "cf_2 = 2500\n",
        "n_2= 25\n",
        "FV_2=100000\n",
        "r_2=0.03\n",
        "\n",
        "PV_2= np.pv(rate = r_2/m, nper=n_2*m ,pmt = cf_2 , fv=FV_2 , when = \"begin\")\n",
        "print(PV_2)\n",
        "\n",
        "##Funding Phase\n",
        "m=12\n",
        "n_1=35\n",
        "FV_1=-PV_2\n",
        "r_1=0.04\n",
        "PV_1=0\n",
        "\n",
        "cf_1=np.pmt(rate=r_1/m,nper=n_1*m,pv=PV_1,fv=FV_1)\n",
        "print(cf_1)\n",
        "\n",
        "##Writing a Function\n",
        "def retirement (ret_income, ret_years,end_value, initial_funds,\n",
        "                funding_years,rate_funding,rate_payout=None,m=12,\n",
        "                payout_when=\"begin\",funding_when=\"end\"):\n",
        "  \n",
        "  if not rate_payout:\n",
        "    rate_payout=rate_funding\n",
        "\n",
        "  PV_2=np.pv(rate=rate_payout/m, nper=ret_years*m,\n",
        "             pmt=ret_income,fv=end_value,when=payout_when)\n",
        "  \n",
        "  cf_1=np.pmt(rate=rate_funding/m,nper=funding_years*m,\n",
        "              pv=-initial_funds,fv=-PV_2,when=funding_when)\n",
        "  return cf_1\n",
        "\n",
        "retirement (ret_income=2500, ret_years=25,end_value=100000, initial_funds=0,\n",
        "                funding_years=35,rate_funding=0.04,rate_payout=0.03)\n"
      ],
      "execution_count": null,
      "outputs": []
    },
    {
      "cell_type": "markdown",
      "metadata": {
        "id": "yXekG8z8VfT4"
      },
      "source": [
        "###VaR Calculations"
      ]
    },
    {
      "cell_type": "code",
      "metadata": {
        "id": "JeNynJHmVkdm"
      },
      "source": [
        "#Representation of the value at stake given a certain condition\n",
        "#It is composed by a Loss Size, a Probability and a Time Period\n",
        "#Basically it is a statistical analysis of multiple scenarios - Monte-Carlo method is widely used for this\n",
        "\n",
        "\n",
        " "
      ],
      "execution_count": null,
      "outputs": []
    }
  ]
}